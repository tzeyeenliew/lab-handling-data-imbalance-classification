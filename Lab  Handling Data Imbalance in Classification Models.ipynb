{
 "cells": [
  {
   "cell_type": "markdown",
   "id": "11ba8d1a",
   "metadata": {},
   "source": [
    "### Scenario\n",
    "#### You are working as an analyst with this internet service provider. You are provided with this historical data about your company's customers and their churn trends. Your task is to build a machine learning model that will help the company identify customers that are more likely to default/churn and thus prevent losses from such customers."
   ]
  },
  {
   "cell_type": "markdown",
   "id": "9e4b56d1",
   "metadata": {},
   "source": [
    "### Instructions\n",
    "#### In this lab, we will first take a look at the degree of imbalance in the data and correct it using the techniques we learned on the class."
   ]
  },
  {
   "cell_type": "markdown",
   "id": "86f938f7",
   "metadata": {},
   "source": [
    "#### 1. Import the required libraries and modules that you would need."
   ]
  },
  {
   "cell_type": "code",
   "execution_count": 1,
   "id": "044addc7",
   "metadata": {},
   "outputs": [],
   "source": [
    "import pandas as pd\n",
    "import numpy as np\n",
    "from sklearn.model_selection import train_test_split\n",
    "from sklearn.preprocessing import StandardScaler\n",
    "from sklearn.preprocessing import MinMaxScaler\n",
    "from sklearn.linear_model import LogisticRegression\n",
    "from sklearn.metrics import accuracy_score\n",
    "from imblearn.over_sampling import RandomOverSampler\n",
    "from imblearn.under_sampling import RandomUnderSampler\n",
    "from sklearn.metrics import classification_report\n",
    "import warnings\n",
    "warnings.filterwarnings(\"ignore\")"
   ]
  },
  {
   "cell_type": "markdown",
   "id": "04acf8f2",
   "metadata": {},
   "source": [
    "#### 2. Read that data into Python and call the dataframe churnData."
   ]
  },
  {
   "cell_type": "code",
   "execution_count": 2,
   "id": "44c4e0ec",
   "metadata": {},
   "outputs": [],
   "source": [
    "churnData= pd.read_csv('Customer-Churn.csv')"
   ]
  },
  {
   "cell_type": "markdown",
   "id": "5aa0c56f",
   "metadata": {},
   "source": [
    "#### 3. Check the datatypes of all the columns in the data. You would see that the column TotalCharges is object type. Convert this column into numeric type using pd.to_numeric function."
   ]
  },
  {
   "cell_type": "code",
   "execution_count": 3,
   "id": "16f16969",
   "metadata": {},
   "outputs": [
    {
     "name": "stdout",
     "output_type": "stream",
     "text": [
      "gender               object\n",
      "SeniorCitizen         int64\n",
      "Partner              object\n",
      "Dependents           object\n",
      "tenure                int64\n",
      "PhoneService         object\n",
      "OnlineSecurity       object\n",
      "OnlineBackup         object\n",
      "DeviceProtection     object\n",
      "TechSupport          object\n",
      "StreamingTV          object\n",
      "StreamingMovies      object\n",
      "Contract             object\n",
      "MonthlyCharges      float64\n",
      "TotalCharges         object\n",
      "Churn                object\n",
      "dtype: object\n"
     ]
    }
   ],
   "source": [
    "print(churnData.dtypes) #TotalCharges is listed as an object, which is inaccurate"
   ]
  },
  {
   "cell_type": "code",
   "execution_count": 4,
   "id": "8410315c",
   "metadata": {},
   "outputs": [],
   "source": [
    "churnData['TotalCharges']= pd.to_numeric(churnData['TotalCharges'], errors = 'coerce' )"
   ]
  },
  {
   "cell_type": "code",
   "execution_count": 5,
   "id": "d2887bfc",
   "metadata": {},
   "outputs": [
    {
     "name": "stdout",
     "output_type": "stream",
     "text": [
      "gender               object\n",
      "SeniorCitizen         int64\n",
      "Partner              object\n",
      "Dependents           object\n",
      "tenure                int64\n",
      "PhoneService         object\n",
      "OnlineSecurity       object\n",
      "OnlineBackup         object\n",
      "DeviceProtection     object\n",
      "TechSupport          object\n",
      "StreamingTV          object\n",
      "StreamingMovies      object\n",
      "Contract             object\n",
      "MonthlyCharges      float64\n",
      "TotalCharges        float64\n",
      "Churn                object\n",
      "dtype: object\n"
     ]
    }
   ],
   "source": [
    "print(churnData.dtypes) #To check if the data type conversion is successful"
   ]
  },
  {
   "cell_type": "markdown",
   "id": "4aa687ae",
   "metadata": {},
   "source": [
    "#### 4.Check for null values in the dataframe. Replace the null values."
   ]
  },
  {
   "cell_type": "code",
   "execution_count": 6,
   "id": "2b6525ff",
   "metadata": {},
   "outputs": [
    {
     "name": "stdout",
     "output_type": "stream",
     "text": [
      "gender               0\n",
      "SeniorCitizen        0\n",
      "Partner              0\n",
      "Dependents           0\n",
      "tenure               0\n",
      "PhoneService         0\n",
      "OnlineSecurity       0\n",
      "OnlineBackup         0\n",
      "DeviceProtection     0\n",
      "TechSupport          0\n",
      "StreamingTV          0\n",
      "StreamingMovies      0\n",
      "Contract             0\n",
      "MonthlyCharges       0\n",
      "TotalCharges        11\n",
      "Churn                0\n",
      "dtype: int64\n"
     ]
    }
   ],
   "source": [
    "print(churnData.isnull().sum()) #TotalCharges has 11 nulls"
   ]
  },
  {
   "cell_type": "code",
   "execution_count": 7,
   "id": "337dfe1f",
   "metadata": {
    "scrolled": true
   },
   "outputs": [
    {
     "data": {
      "text/plain": [
       "count    7032.000000\n",
       "mean     2283.300441\n",
       "std      2266.771362\n",
       "min        18.800000\n",
       "25%       401.450000\n",
       "50%      1397.475000\n",
       "75%      3794.737500\n",
       "max      8684.800000\n",
       "Name: TotalCharges, dtype: float64"
      ]
     },
     "execution_count": 7,
     "metadata": {},
     "output_type": "execute_result"
    }
   ],
   "source": [
    "churnData['TotalCharges'].describe() #dropping 11 nulls would not affect the the column that much, as it has 7032 rows"
   ]
  },
  {
   "cell_type": "code",
   "execution_count": 8,
   "id": "762085dd",
   "metadata": {},
   "outputs": [
    {
     "name": "stdout",
     "output_type": "stream",
     "text": [
      "gender              0\n",
      "SeniorCitizen       0\n",
      "Partner             0\n",
      "Dependents          0\n",
      "tenure              0\n",
      "PhoneService        0\n",
      "OnlineSecurity      0\n",
      "OnlineBackup        0\n",
      "DeviceProtection    0\n",
      "TechSupport         0\n",
      "StreamingTV         0\n",
      "StreamingMovies     0\n",
      "Contract            0\n",
      "MonthlyCharges      0\n",
      "TotalCharges        0\n",
      "Churn               0\n",
      "dtype: int64\n"
     ]
    }
   ],
   "source": [
    "churnData.dropna(subset=['TotalCharges'], inplace=True) #dropping nulls from TotalCharges\n",
    "print(churnData.isnull().sum())"
   ]
  },
  {
   "cell_type": "markdown",
   "id": "cc2eee76",
   "metadata": {},
   "source": [
    "#### 4.Use the following features: tenure, SeniorCitizen, MonthlyCharges and TotalCharges:\n",
    "#### Scale the features either by using normalizer or a standard scaler.\n"
   ]
  },
  {
   "cell_type": "code",
   "execution_count": 9,
   "id": "1c8ad0c7",
   "metadata": {},
   "outputs": [],
   "source": [
    "features = ['tenure', 'SeniorCitizen', 'MonthlyCharges', 'TotalCharges'] #scales the values of the variables so that they fall between 0 and 1\n",
    "X= churnData[features]\n",
    "y= churnData['Churn'] #As the question is regarding customer churn\n",
    "\n",
    "scaler= MinMaxScaler()\n",
    "X_scaled= scaler.fit_transform(X)"
   ]
  },
  {
   "cell_type": "markdown",
   "id": "6f2cd449",
   "metadata": {},
   "source": [
    "#### Split the data into a training set and a test set."
   ]
  },
  {
   "cell_type": "code",
   "execution_count": 10,
   "id": "b0af999d",
   "metadata": {},
   "outputs": [],
   "source": [
    "X_train, X_test, y_train, y_test= train_test_split(X_scaled, y, test_size=0.2, random_state=42)"
   ]
  },
  {
   "cell_type": "markdown",
   "id": "15d37e26",
   "metadata": {},
   "source": [
    "#### Fit a logistic regression model on the training data."
   ]
  },
  {
   "cell_type": "code",
   "execution_count": 11,
   "id": "82fa2237",
   "metadata": {},
   "outputs": [
    {
     "data": {
      "text/plain": [
       "LogisticRegression()"
      ]
     },
     "execution_count": 11,
     "metadata": {},
     "output_type": "execute_result"
    }
   ],
   "source": [
    "logisticregression= LogisticRegression()\n",
    "logisticregression.fit(X_train, y_train)"
   ]
  },
  {
   "cell_type": "code",
   "execution_count": 12,
   "id": "3cc43ddc",
   "metadata": {},
   "outputs": [],
   "source": [
    "predictions= logisticregression.predict(X_test)\n"
   ]
  },
  {
   "cell_type": "markdown",
   "id": "7878425a",
   "metadata": {},
   "source": [
    "#### Check the accuracy on the test data."
   ]
  },
  {
   "cell_type": "code",
   "execution_count": 13,
   "id": "8078ac62",
   "metadata": {},
   "outputs": [
    {
     "name": "stdout",
     "output_type": "stream",
     "text": [
      "\n",
      "Accuracy: 0.78\n",
      "\n"
     ]
    }
   ],
   "source": [
    "print('\\nAccuracy: {:.2f}\\n'.format(accuracy_score(y_test,predictions)))"
   ]
  },
  {
   "cell_type": "code",
   "execution_count": 14,
   "id": "05ab3e0a",
   "metadata": {},
   "outputs": [
    {
     "name": "stdout",
     "output_type": "stream",
     "text": [
      "              precision    recall  f1-score   support\n",
      "\n",
      "          No       0.82      0.91      0.86      1033\n",
      "         Yes       0.63      0.43      0.51       374\n",
      "\n",
      "    accuracy                           0.78      1407\n",
      "   macro avg       0.72      0.67      0.69      1407\n",
      "weighted avg       0.76      0.78      0.77      1407\n",
      "\n"
     ]
    }
   ],
   "source": [
    "print(classification_report(y_test, predictions))  #Model is great at predicting No, but not as good at predicing Yes"
   ]
  },
  {
   "cell_type": "markdown",
   "id": "0bc02c09",
   "metadata": {},
   "source": [
    "### Managing imbalance in the dataset\n",
    "\n",
    "#### Check for the imbalance."
   ]
  },
  {
   "cell_type": "code",
   "execution_count": 15,
   "id": "114af742",
   "metadata": {},
   "outputs": [
    {
     "name": "stdout",
     "output_type": "stream",
     "text": [
      "No     5163\n",
      "Yes    1869\n",
      "Name: Churn, dtype: int64\n"
     ]
    }
   ],
   "source": [
    "print(churnData['Churn'].value_counts()) # from the results below,there seems to be a huge imbalance in the representation of the two categories"
   ]
  },
  {
   "cell_type": "markdown",
   "id": "3fe2b43e",
   "metadata": {},
   "source": [
    "#### Use the resampling strategies used in class for upsampling and downsampling to create a balance between the two classes. Each time fit the model and see how the accuracy of the model is."
   ]
  },
  {
   "cell_type": "code",
   "execution_count": 16,
   "id": "0540108a",
   "metadata": {},
   "outputs": [],
   "source": [
    "def train_logistic_regression(X_train, y_train, X_test, y_test): #this function is meant to speed up the fitting process after train_test_split, if needed \n",
    "    logisticregression = LogisticRegression()\n",
    "    logisticregression.fit(X_train, y_train) #fits a logreg model on the training data\n",
    "    predictions = logisticregression.predict(X_test) #prediction = y_pred\n",
    "    accuracy = accuracy_score(y_test, predictions) #calculates the accuracy score\n",
    "    return logisticregression, accuracy #returns the trained model and the corresponding accuracy score\n",
    "    "
   ]
  },
  {
   "cell_type": "markdown",
   "id": "608695d0",
   "metadata": {},
   "source": [
    "### SMOTE\n",
    "#### SMOTE creates as many fake samples from the minority class as needed in order to balance the classes."
   ]
  },
  {
   "cell_type": "code",
   "execution_count": 17,
   "id": "7b6607d8",
   "metadata": {},
   "outputs": [
    {
     "name": "stdout",
     "output_type": "stream",
     "text": [
      "Requirement already satisfied: imbalanced-learn in c:\\users\\hp\\anaconda3\\lib\\site-packages (0.10.1)\n",
      "Requirement already satisfied: scipy>=1.3.2 in c:\\users\\hp\\anaconda3\\lib\\site-packages (from imbalanced-learn) (1.9.1)\n",
      "Requirement already satisfied: scikit-learn>=1.0.2 in c:\\users\\hp\\anaconda3\\lib\\site-packages (from imbalanced-learn) (1.0.2)\n",
      "Requirement already satisfied: numpy>=1.17.3 in c:\\users\\hp\\anaconda3\\lib\\site-packages (from imbalanced-learn) (1.21.5)\n",
      "Requirement already satisfied: joblib>=1.1.1 in c:\\users\\hp\\anaconda3\\lib\\site-packages (from imbalanced-learn) (1.2.0)\n",
      "Requirement already satisfied: threadpoolctl>=2.0.0 in c:\\users\\hp\\anaconda3\\lib\\site-packages (from imbalanced-learn) (2.2.0)\n"
     ]
    }
   ],
   "source": [
    "from imblearn.over_sampling import SMOTE\n",
    "!pip install imbalanced-learn"
   ]
  },
  {
   "cell_type": "markdown",
   "id": "52ffabc0",
   "metadata": {},
   "source": [
    "##### I've decided to look into each predicting feature in detail to see if a separate scaling method should be applied instead."
   ]
  },
  {
   "cell_type": "code",
   "execution_count": 18,
   "id": "8183eb8a",
   "metadata": {},
   "outputs": [
    {
     "data": {
      "text/plain": [
       "count    7032.000000\n",
       "mean       32.421786\n",
       "std        24.545260\n",
       "min         1.000000\n",
       "25%         9.000000\n",
       "50%        29.000000\n",
       "75%        55.000000\n",
       "max        72.000000\n",
       "Name: tenure, dtype: float64"
      ]
     },
     "execution_count": 18,
     "metadata": {},
     "output_type": "execute_result"
    }
   ],
   "source": [
    "churnData['tenure'].describe()  #Tenure has a large range of values, thus StandardScaler would be more apt"
   ]
  },
  {
   "cell_type": "code",
   "execution_count": 19,
   "id": "19c46f1b",
   "metadata": {},
   "outputs": [
    {
     "data": {
      "text/plain": [
       "count    7032.000000\n",
       "mean        0.162400\n",
       "std         0.368844\n",
       "min         0.000000\n",
       "25%         0.000000\n",
       "50%         0.000000\n",
       "75%         0.000000\n",
       "max         1.000000\n",
       "Name: SeniorCitizen, dtype: float64"
      ]
     },
     "execution_count": 19,
     "metadata": {},
     "output_type": "execute_result"
    }
   ],
   "source": [
    "churnData['SeniorCitizen'].describe() # Senior Citizen is a binary variable, thus no scaling is required"
   ]
  },
  {
   "cell_type": "code",
   "execution_count": 20,
   "id": "3c811d60",
   "metadata": {},
   "outputs": [
    {
     "data": {
      "text/plain": [
       "count    7032.000000\n",
       "mean       64.798208\n",
       "std        30.085974\n",
       "min        18.250000\n",
       "25%        35.587500\n",
       "50%        70.350000\n",
       "75%        89.862500\n",
       "max       118.750000\n",
       "Name: MonthlyCharges, dtype: float64"
      ]
     },
     "execution_count": 20,
     "metadata": {},
     "output_type": "execute_result"
    }
   ],
   "source": [
    "churnData['MonthlyCharges'].describe() # Monthly Charges has a specific range of values "
   ]
  },
  {
   "cell_type": "code",
   "execution_count": 21,
   "id": "b1858220",
   "metadata": {
    "scrolled": true
   },
   "outputs": [
    {
     "data": {
      "text/plain": [
       "count    7032.000000\n",
       "mean     2283.300441\n",
       "std      2266.771362\n",
       "min        18.800000\n",
       "25%       401.450000\n",
       "50%      1397.475000\n",
       "75%      3794.737500\n",
       "max      8684.800000\n",
       "Name: TotalCharges, dtype: float64"
      ]
     },
     "execution_count": 21,
     "metadata": {},
     "output_type": "execute_result"
    }
   ],
   "source": [
    "churnData['TotalCharges'].describe() # Total Charges has a large range of values, thus using Standard Scaler to standardize it would be more apt"
   ]
  },
  {
   "cell_type": "markdown",
   "id": "ec8f1a5a",
   "metadata": {},
   "source": [
    "#### Scaling the Variables using both StandardScaler and MinMaxScaler"
   ]
  },
  {
   "cell_type": "code",
   "execution_count": 22,
   "id": "edf61bf4",
   "metadata": {},
   "outputs": [],
   "source": [
    "X= churnData[['tenure', 'SeniorCitizen', 'MonthlyCharges', 'TotalCharges']] #defines the X feature matrix"
   ]
  },
  {
   "cell_type": "code",
   "execution_count": 23,
   "id": "7aab5c31",
   "metadata": {},
   "outputs": [],
   "source": [
    "y= churnData['Churn'] # separating the target variable"
   ]
  },
  {
   "cell_type": "code",
   "execution_count": 24,
   "id": "d00b48da",
   "metadata": {
    "scrolled": true
   },
   "outputs": [],
   "source": [
    "scaler = StandardScaler() #applying the standardscaler to the intended variables\n",
    "X[['tenure', 'TotalCharges']]= scaler.fit_transform(X[['tenure', 'TotalCharges']]) "
   ]
  },
  {
   "cell_type": "code",
   "execution_count": 25,
   "id": "3eaec0c5",
   "metadata": {},
   "outputs": [],
   "source": [
    "minmax_scaler= MinMaxScaler() #applying the minmaxscaler to the intended variables\n",
    "X['MonthlyCharges']= minmax_scaler.fit_transform(X['MonthlyCharges'].values.reshape(-1,1))"
   ]
  },
  {
   "cell_type": "markdown",
   "id": "567638ae",
   "metadata": {},
   "source": [
    "#### SMOTE with combined scaling"
   ]
  },
  {
   "cell_type": "code",
   "execution_count": 26,
   "id": "39837f8c",
   "metadata": {},
   "outputs": [],
   "source": [
    "smote= SMOTE()  #oversampling the minoroty class with SMOTE\n",
    "X_sm, y_sm= smote.fit_resample(X,y)"
   ]
  },
  {
   "cell_type": "code",
   "execution_count": 27,
   "id": "e3484355",
   "metadata": {},
   "outputs": [
    {
     "data": {
      "text/plain": [
       "No     5163\n",
       "Yes    5163\n",
       "Name: Churn, dtype: int64"
      ]
     },
     "execution_count": 27,
     "metadata": {},
     "output_type": "execute_result"
    }
   ],
   "source": [
    "y_sm.value_counts() #to check if the data is balanced by the SMOTE process"
   ]
  },
  {
   "cell_type": "code",
   "execution_count": 28,
   "id": "bdea7dee",
   "metadata": {},
   "outputs": [],
   "source": [
    "X_train, X_test, y_train, y_test = train_test_split(X_sm, y_sm, test_size=0.3, random_state=42)"
   ]
  },
  {
   "cell_type": "code",
   "execution_count": 29,
   "id": "42baefdb",
   "metadata": {},
   "outputs": [],
   "source": [
    "logisticregression_model, accuracy = train_logistic_regression(X_train, y_train, X_test, y_test)"
   ]
  },
  {
   "cell_type": "code",
   "execution_count": 30,
   "id": "289959b6",
   "metadata": {},
   "outputs": [],
   "source": [
    "y_pred = logisticregression_model.predict(X_test)"
   ]
  },
  {
   "cell_type": "code",
   "execution_count": 31,
   "id": "5977cf12",
   "metadata": {
    "scrolled": true
   },
   "outputs": [
    {
     "name": "stdout",
     "output_type": "stream",
     "text": [
      "Accuracy (with combined scaling and SMOTE): 0.7265978050355067\n"
     ]
    }
   ],
   "source": [
    "print(\"Accuracy (with combined scaling and SMOTE):\", accuracy)"
   ]
  },
  {
   "cell_type": "code",
   "execution_count": 32,
   "id": "eb670019",
   "metadata": {},
   "outputs": [
    {
     "name": "stdout",
     "output_type": "stream",
     "text": [
      "              precision    recall  f1-score   support\n",
      "\n",
      "          No       0.73      0.73      0.73      1563\n",
      "         Yes       0.72      0.73      0.73      1535\n",
      "\n",
      "    accuracy                           0.73      3098\n",
      "   macro avg       0.73      0.73      0.73      3098\n",
      "weighted avg       0.73      0.73      0.73      3098\n",
      "\n"
     ]
    }
   ],
   "source": [
    "report = classification_report(y_test, y_pred)\n",
    "print(report) #decrease in precision in predicting No, decrease in overall accuracy but improvement in predicting Yes"
   ]
  },
  {
   "cell_type": "markdown",
   "id": "6291fefb",
   "metadata": {},
   "source": [
    "### TOMEKlinks"
   ]
  },
  {
   "cell_type": "markdown",
   "id": "6b55a99e",
   "metadata": {},
   "source": [
    "#### Tomek links are pairs of very close instances, but of opposite classes. Removing the instances of the majority class of each pair increases the space between the two classes, facilitating the classification process."
   ]
  },
  {
   "cell_type": "markdown",
   "id": "a118ffdc",
   "metadata": {},
   "source": [
    "#### TOMEKlinks with combined scaling"
   ]
  },
  {
   "cell_type": "code",
   "execution_count": 33,
   "id": "c2fe07bb",
   "metadata": {},
   "outputs": [],
   "source": [
    "from imblearn.under_sampling import TomekLinks"
   ]
  },
  {
   "cell_type": "code",
   "execution_count": 34,
   "id": "3df4f199",
   "metadata": {},
   "outputs": [],
   "source": [
    "X_scaled = X"
   ]
  },
  {
   "cell_type": "code",
   "execution_count": 35,
   "id": "a548692c",
   "metadata": {},
   "outputs": [],
   "source": [
    "tomek_links = TomekLinks() #undersampling the majority class with TOMEKlinks\n",
    "X_tomek, y_tomek = tomek_links.fit_resample(X_scaled, y)"
   ]
  },
  {
   "cell_type": "code",
   "execution_count": 36,
   "id": "c807b2c0",
   "metadata": {},
   "outputs": [],
   "source": [
    "X_train_tomek, X_test_tomek, y_train_tomek, y_test_tomek= train_test_split(X_tomek, y_tomek, test_size=0.2, random_state=42)"
   ]
  },
  {
   "cell_type": "code",
   "execution_count": 37,
   "id": "1bb04c14",
   "metadata": {},
   "outputs": [
    {
     "data": {
      "text/plain": [
       "LogisticRegression()"
      ]
     },
     "execution_count": 37,
     "metadata": {},
     "output_type": "execute_result"
    }
   ],
   "source": [
    "logisticregression_tomek= LogisticRegression() #decided not to use the earlier predefined function as its easier to remember that this involves TOM\n",
    "logisticregression_tomek.fit(X_train_tomek, y_train_tomek)"
   ]
  },
  {
   "cell_type": "code",
   "execution_count": 38,
   "id": "80a8ba2f",
   "metadata": {},
   "outputs": [
    {
     "name": "stdout",
     "output_type": "stream",
     "text": [
      "Accuracy (with combined scaling and TOMEKlinks) 0.7730769230769231\n"
     ]
    }
   ],
   "source": [
    "y_pred_tomek= logisticregression_tomek.predict(X_test_tomek)\n",
    "accuracy_tomek= accuracy_score(y_test_tomek, y_pred_tomek)\n",
    "print(\"Accuracy (with combined scaling and TOMEKlinks)\", accuracy_tomek)"
   ]
  },
  {
   "cell_type": "code",
   "execution_count": 39,
   "id": "de701773",
   "metadata": {},
   "outputs": [
    {
     "name": "stdout",
     "output_type": "stream",
     "text": [
      "              precision    recall  f1-score   support\n",
      "\n",
      "          No       0.80      0.89      0.84       898\n",
      "         Yes       0.68      0.51      0.58       402\n",
      "\n",
      "    accuracy                           0.77      1300\n",
      "   macro avg       0.74      0.70      0.71      1300\n",
      "weighted avg       0.76      0.77      0.76      1300\n",
      "\n"
     ]
    }
   ],
   "source": [
    "report_tomek = classification_report(y_test_tomek, y_pred_tomek)\n",
    "print(report_tomek) #Minor decrease in the precision in predicting No, minor improvement in predicting Yes, accuracy remains the same"
   ]
  },
  {
   "cell_type": "markdown",
   "id": "a2ed188e",
   "metadata": {},
   "source": [
    "#### Unfortunately, my combined scaling strategy actually resulted in a lower accuracy score than before -- in both instances of SMOTE and TOMEKlinks. Hence I will try to reiterate the process by applying only one method on all X variables at a time and then combining the accuracy scores of both approaches. However, it is interesting to note that the TOMEK model outperformed the SMOTE model."
   ]
  },
  {
   "cell_type": "markdown",
   "id": "d7e62f68",
   "metadata": {},
   "source": [
    "#### Undoing the Scaling Process using inverse_transform"
   ]
  },
  {
   "cell_type": "code",
   "execution_count": 40,
   "id": "2fd7c1cb",
   "metadata": {},
   "outputs": [],
   "source": [
    "X[['tenure', 'TotalCharges']]=scaler.inverse_transform(X[['tenure', 'TotalCharges']]) #inverse transforming variables transformed using StandardScaler"
   ]
  },
  {
   "cell_type": "code",
   "execution_count": 41,
   "id": "a8a95ab0",
   "metadata": {},
   "outputs": [],
   "source": [
    "X['MonthlyCharges']= minmax_scaler.inverse_transform(X['MonthlyCharges'].values.reshape(-1, 1)) #inverse transforming variable that was transformed using MinMaxScaler"
   ]
  },
  {
   "cell_type": "markdown",
   "id": "d462585e",
   "metadata": {},
   "source": [
    "#### Scaling the Variables using StandardScaler"
   ]
  },
  {
   "cell_type": "code",
   "execution_count": 42,
   "id": "c5fd8e47",
   "metadata": {},
   "outputs": [],
   "source": [
    "X= churnData[['tenure', 'TotalCharges', 'SeniorCitizen', 'MonthlyCharges']]"
   ]
  },
  {
   "cell_type": "code",
   "execution_count": 43,
   "id": "5da9fb1f",
   "metadata": {},
   "outputs": [],
   "source": [
    "y = churnData['Churn']"
   ]
  },
  {
   "cell_type": "code",
   "execution_count": 44,
   "id": "421cc2fa",
   "metadata": {},
   "outputs": [],
   "source": [
    "X[['tenure', 'TotalCharges', 'SeniorCitizen', 'MonthlyCharges']]= scaler.fit_transform(X[['tenure', 'TotalCharges', 'SeniorCitizen', 'MonthlyCharges']]) "
   ]
  },
  {
   "cell_type": "markdown",
   "id": "1bc5db2e",
   "metadata": {},
   "source": [
    "#### SMOTE with StandardScaler"
   ]
  },
  {
   "cell_type": "code",
   "execution_count": 45,
   "id": "2fc006ff",
   "metadata": {},
   "outputs": [],
   "source": [
    "smote= SMOTE() \n",
    "X_sm, y_sm= smote.fit_resample(X,y)"
   ]
  },
  {
   "cell_type": "code",
   "execution_count": 46,
   "id": "5e1a411e",
   "metadata": {},
   "outputs": [
    {
     "data": {
      "text/plain": [
       "No     5163\n",
       "Yes    5163\n",
       "Name: Churn, dtype: int64"
      ]
     },
     "execution_count": 46,
     "metadata": {},
     "output_type": "execute_result"
    }
   ],
   "source": [
    "y_sm.value_counts() #to check if the data is balanced by the SMOTE proces"
   ]
  },
  {
   "cell_type": "code",
   "execution_count": 47,
   "id": "e4bf6e38",
   "metadata": {},
   "outputs": [],
   "source": [
    "X_train, X_test, y_train, y_test = train_test_split(X_sm, y_sm, test_size=0.3, random_state=42)"
   ]
  },
  {
   "cell_type": "code",
   "execution_count": 48,
   "id": "3bb98d4b",
   "metadata": {},
   "outputs": [],
   "source": [
    "logisticregression_model, accuracy = train_logistic_regression(X_train, y_train, X_test, y_test)"
   ]
  },
  {
   "cell_type": "code",
   "execution_count": 49,
   "id": "30cc00b0",
   "metadata": {},
   "outputs": [],
   "source": [
    "y_pred = logisticregression_model.predict(X_test)"
   ]
  },
  {
   "cell_type": "code",
   "execution_count": 50,
   "id": "d7a3089a",
   "metadata": {},
   "outputs": [
    {
     "name": "stdout",
     "output_type": "stream",
     "text": [
      "Accuracy (with StandardScaler and SMOTE): 0.7224015493867011\n"
     ]
    }
   ],
   "source": [
    "print(\"Accuracy (with StandardScaler and SMOTE):\", accuracy)"
   ]
  },
  {
   "cell_type": "code",
   "execution_count": 51,
   "id": "7e5bd6a8",
   "metadata": {},
   "outputs": [
    {
     "name": "stdout",
     "output_type": "stream",
     "text": [
      "              precision    recall  f1-score   support\n",
      "\n",
      "          No       0.72      0.72      0.72      1563\n",
      "         Yes       0.72      0.72      0.72      1535\n",
      "\n",
      "    accuracy                           0.72      3098\n",
      "   macro avg       0.72      0.72      0.72      3098\n",
      "weighted avg       0.72      0.72      0.72      3098\n",
      "\n"
     ]
    }
   ],
   "source": [
    "report = classification_report(y_test, y_pred)\n",
    "print(report) #Decrease in overall accuracy, decrease in precision in predicting No but improvement in predicting Yes"
   ]
  },
  {
   "cell_type": "markdown",
   "id": "3ccd981e",
   "metadata": {},
   "source": [
    "#### TOMEKlinks with StandardScaler"
   ]
  },
  {
   "cell_type": "code",
   "execution_count": 52,
   "id": "2515cc8b",
   "metadata": {},
   "outputs": [],
   "source": [
    "X_scaled = X"
   ]
  },
  {
   "cell_type": "code",
   "execution_count": 53,
   "id": "a3eda705",
   "metadata": {},
   "outputs": [],
   "source": [
    "tomek_links = TomekLinks() #undersampling the majority class with TOMEKlinks\n",
    "X_tomek, y_tomek = tomek_links.fit_resample(X_scaled, y)"
   ]
  },
  {
   "cell_type": "code",
   "execution_count": 54,
   "id": "e1306ae4",
   "metadata": {},
   "outputs": [],
   "source": [
    "X_train_tomek, X_test_tomek, y_train_tomek, y_test_tomek= train_test_split(X_tomek, y_tomek, test_size=0.2, random_state=42)"
   ]
  },
  {
   "cell_type": "code",
   "execution_count": 55,
   "id": "4de17d3c",
   "metadata": {},
   "outputs": [
    {
     "data": {
      "text/plain": [
       "LogisticRegression()"
      ]
     },
     "execution_count": 55,
     "metadata": {},
     "output_type": "execute_result"
    }
   ],
   "source": [
    "logisticregression_tomek= LogisticRegression() #decided not to use the earlier predefined function as its easier to remember that this involves TOM\n",
    "logisticregression_tomek.fit(X_train_tomek, y_train_tomek)"
   ]
  },
  {
   "cell_type": "code",
   "execution_count": 56,
   "id": "f91a59b3",
   "metadata": {},
   "outputs": [
    {
     "name": "stdout",
     "output_type": "stream",
     "text": [
      "Accuracy (with StandardScaler and TOMEKlinks) 0.7868098159509203\n"
     ]
    }
   ],
   "source": [
    "y_pred_tomek= logisticregression_tomek.predict(X_test_tomek)\n",
    "accuracy_tomek= accuracy_score(y_test_tomek, y_pred_tomek)\n",
    "print(\"Accuracy (with StandardScaler and TOMEKlinks)\", accuracy_tomek)"
   ]
  },
  {
   "cell_type": "code",
   "execution_count": 57,
   "id": "f7f76d23",
   "metadata": {},
   "outputs": [
    {
     "name": "stdout",
     "output_type": "stream",
     "text": [
      "              precision    recall  f1-score   support\n",
      "\n",
      "          No       0.83      0.89      0.86       938\n",
      "         Yes       0.65      0.52      0.58       366\n",
      "\n",
      "    accuracy                           0.79      1304\n",
      "   macro avg       0.74      0.70      0.72      1304\n",
      "weighted avg       0.78      0.79      0.78      1304\n",
      "\n"
     ]
    }
   ],
   "source": [
    "report_tomek = classification_report(y_test_tomek, y_pred_tomek)\n",
    "print(report_tomek)  #Minor improvement in predicting Yes, minor increase in overall accuracy, but poor recall score"
   ]
  },
  {
   "cell_type": "markdown",
   "id": "6be05148",
   "metadata": {},
   "source": [
    "#### SMOTE with MinMaxScaler"
   ]
  },
  {
   "cell_type": "code",
   "execution_count": 58,
   "id": "56442482",
   "metadata": {},
   "outputs": [],
   "source": [
    "X[['tenure', 'TotalCharges','SeniorCitizen', 'MonthlyCharges']]=scaler.inverse_transform(X[['tenure', 'TotalCharges', 'SeniorCitizen', 'MonthlyCharges']]) #inverse transforming variables transformed using StandardScaler"
   ]
  },
  {
   "cell_type": "code",
   "execution_count": 59,
   "id": "1d3a3128",
   "metadata": {},
   "outputs": [],
   "source": [
    "X['tenure'] = minmax_scaler.fit_transform(X['tenure'].values.reshape(-1, 1))\n",
    "X['TotalCharges'] = minmax_scaler.fit_transform(X['TotalCharges'].values.reshape(-1, 1))\n",
    "X['SeniorCitizen'] = minmax_scaler.fit_transform(X['SeniorCitizen'].values.reshape(-1, 1))\n",
    "X['MonthlyCharges'] = minmax_scaler.fit_transform(X['MonthlyCharges'].values.reshape(-1, 1)) #mass transforming them didn't work, so I transformed them one after the other"
   ]
  },
  {
   "cell_type": "code",
   "execution_count": 60,
   "id": "bdbee2b0",
   "metadata": {},
   "outputs": [],
   "source": [
    "smote= SMOTE()  #oversampling the minority class with SMOTE\n",
    "X_sm, y_sm= smote.fit_resample(X,y)"
   ]
  },
  {
   "cell_type": "code",
   "execution_count": 61,
   "id": "0a5a1cf6",
   "metadata": {},
   "outputs": [
    {
     "data": {
      "text/plain": [
       "No     5163\n",
       "Yes    5163\n",
       "Name: Churn, dtype: int64"
      ]
     },
     "execution_count": 61,
     "metadata": {},
     "output_type": "execute_result"
    }
   ],
   "source": [
    "y_sm.value_counts() #to check if the data is balanced by the SMOTE process"
   ]
  },
  {
   "cell_type": "code",
   "execution_count": 62,
   "id": "7a3d2e3a",
   "metadata": {},
   "outputs": [],
   "source": [
    "X_train, X_test, y_train, y_test = train_test_split(X_sm, y_sm, test_size=0.3, random_state=42)"
   ]
  },
  {
   "cell_type": "code",
   "execution_count": 63,
   "id": "761ca264",
   "metadata": {},
   "outputs": [],
   "source": [
    "logisticregression_model, accuracy = train_logistic_regression(X_train, y_train, X_test, y_test)"
   ]
  },
  {
   "cell_type": "code",
   "execution_count": 64,
   "id": "3243960d",
   "metadata": {},
   "outputs": [],
   "source": [
    "y_pred = logisticregression_model.predict(X_test)"
   ]
  },
  {
   "cell_type": "code",
   "execution_count": 65,
   "id": "328b0ed7",
   "metadata": {},
   "outputs": [
    {
     "name": "stdout",
     "output_type": "stream",
     "text": [
      "Accuracy (with MinMaxScaler and SMOTE): 0.724661071659135\n"
     ]
    }
   ],
   "source": [
    "print(\"Accuracy (with MinMaxScaler and SMOTE):\", accuracy)"
   ]
  },
  {
   "cell_type": "code",
   "execution_count": 66,
   "id": "3518cee3",
   "metadata": {},
   "outputs": [
    {
     "name": "stdout",
     "output_type": "stream",
     "text": [
      "              precision    recall  f1-score   support\n",
      "\n",
      "          No       0.73      0.72      0.72      1563\n",
      "         Yes       0.72      0.73      0.72      1535\n",
      "\n",
      "    accuracy                           0.72      3098\n",
      "   macro avg       0.72      0.72      0.72      3098\n",
      "weighted avg       0.72      0.72      0.72      3098\n",
      "\n"
     ]
    }
   ],
   "source": [
    "report = classification_report(y_test, y_pred)\n",
    "print(report) #Decrease in precision in predicting No, improvement in predicting yes, reduced overall accuracy"
   ]
  },
  {
   "cell_type": "markdown",
   "id": "24c1d09f",
   "metadata": {},
   "source": [
    "#### TomekLINKS with MinMaxScaler"
   ]
  },
  {
   "cell_type": "code",
   "execution_count": 67,
   "id": "1ecb27e3",
   "metadata": {},
   "outputs": [],
   "source": [
    "X_scaled = X"
   ]
  },
  {
   "cell_type": "code",
   "execution_count": 68,
   "id": "d86a5e7a",
   "metadata": {},
   "outputs": [],
   "source": [
    "tomek_links = TomekLinks() #undersampling the majority class with TOMEKlinks\n",
    "X_tomek, y_tomek = tomek_links.fit_resample(X_scaled, y)"
   ]
  },
  {
   "cell_type": "code",
   "execution_count": 69,
   "id": "c02f302a",
   "metadata": {},
   "outputs": [],
   "source": [
    "X_train_tomek, X_test_tomek, y_train_tomek, y_test_tomek= train_test_split(X_tomek, y_tomek, test_size=0.2, random_state=42)"
   ]
  },
  {
   "cell_type": "code",
   "execution_count": 70,
   "id": "2bb7343f",
   "metadata": {},
   "outputs": [
    {
     "data": {
      "text/plain": [
       "LogisticRegression()"
      ]
     },
     "execution_count": 70,
     "metadata": {},
     "output_type": "execute_result"
    }
   ],
   "source": [
    "logisticregression_tomek= LogisticRegression() #decided not to use the earlier predefined function as its easier to remember that this involves TOM\n",
    "logisticregression_tomek.fit(X_train_tomek, y_train_tomek)"
   ]
  },
  {
   "cell_type": "code",
   "execution_count": 71,
   "id": "3d5ab62c",
   "metadata": {},
   "outputs": [
    {
     "name": "stdout",
     "output_type": "stream",
     "text": [
      "Accuracy (with MinMaxScaler and TOMEKlinks) 0.7966231772831927\n"
     ]
    }
   ],
   "source": [
    "y_pred_tomek= logisticregression_tomek.predict(X_test_tomek)\n",
    "accuracy_tomek= accuracy_score(y_test_tomek, y_pred_tomek)\n",
    "print(\"Accuracy (with MinMaxScaler and TOMEKlinks)\", accuracy_tomek)"
   ]
  },
  {
   "cell_type": "code",
   "execution_count": 72,
   "id": "b72ed2bc",
   "metadata": {},
   "outputs": [
    {
     "name": "stdout",
     "output_type": "stream",
     "text": [
      "              precision    recall  f1-score   support\n",
      "\n",
      "          No       0.82      0.91      0.86       926\n",
      "         Yes       0.70      0.52      0.60       377\n",
      "\n",
      "    accuracy                           0.80      1303\n",
      "   macro avg       0.76      0.72      0.73      1303\n",
      "weighted avg       0.79      0.80      0.79      1303\n",
      "\n"
     ]
    }
   ],
   "source": [
    "report_tomek = classification_report(y_test_tomek, y_pred_tomek)\n",
    "print(report_tomek) #Minor decrease in the precision in predicting No, improvement in predicting Yes, minor increase in overall accuracy, but do note poor recall score for YEs\n"
   ]
  },
  {
   "cell_type": "markdown",
   "id": "62190d31",
   "metadata": {},
   "source": [
    "#### Observation: Scaling the predictive variables using the MinMaxScaler and then undersampling the majority class with TOMEKLinks seems to produce the model with the best accuracy scores. In any case, MinMaxScaler produces better accuracy scores than combining both scaling methods or using SMOTE."
   ]
  },
  {
   "cell_type": "markdown",
   "id": "06f13bb6",
   "metadata": {},
   "source": [
    "### Combining both oversampling (with SMOTE) and undersampling with (TOMEKLinks) + MinMaxScaler"
   ]
  },
  {
   "cell_type": "code",
   "execution_count": 78,
   "id": "ffc570a3",
   "metadata": {},
   "outputs": [],
   "source": [
    "tomek = TomekLinks()\n",
    "X_sm_tomek, y_sm_tomek = tomek.fit_resample(X_sm, y_sm)"
   ]
  },
  {
   "cell_type": "code",
   "execution_count": 79,
   "id": "40a6b0b6",
   "metadata": {},
   "outputs": [],
   "source": [
    "X_train, X_test, y_train, y_test = train_test_split(X_sm_tomek, y_sm_tomek, test_size=0.3, random_state=42)"
   ]
  },
  {
   "cell_type": "code",
   "execution_count": 80,
   "id": "65255ab6",
   "metadata": {},
   "outputs": [],
   "source": [
    "logisticregression_model = LogisticRegression()\n",
    "logisticregression_model.fit(X_train, y_train)\n",
    "y_pred = logisticregression_model.predict(X_test)"
   ]
  },
  {
   "cell_type": "code",
   "execution_count": 81,
   "id": "0ad93493",
   "metadata": {},
   "outputs": [
    {
     "name": "stdout",
     "output_type": "stream",
     "text": [
      "Accuracy of combined SMOTE and TomekLinks 0.742327150084317\n"
     ]
    }
   ],
   "source": [
    "accuracy = accuracy_score(y_test, y_pred)\n",
    "print(\"Accuracy of combined SMOTE and TomekLinks\", accuracy)"
   ]
  },
  {
   "cell_type": "code",
   "execution_count": 82,
   "id": "d94be891",
   "metadata": {
    "scrolled": true
   },
   "outputs": [
    {
     "name": "stdout",
     "output_type": "stream",
     "text": [
      "              precision    recall  f1-score   support\n",
      "\n",
      "          No       0.76      0.74      0.75      1571\n",
      "         Yes       0.72      0.74      0.73      1394\n",
      "\n",
      "    accuracy                           0.74      2965\n",
      "   macro avg       0.74      0.74      0.74      2965\n",
      "weighted avg       0.74      0.74      0.74      2965\n",
      "\n"
     ]
    }
   ],
   "source": [
    "report = classification_report(y_test, y_pred)\n",
    "print(report) #Reduction in precision in predicting No, improvement in predicting Yes, reduced overall accuracy, improved recall score"
   ]
  },
  {
   "cell_type": "markdown",
   "id": "786d251d",
   "metadata": {},
   "source": [
    "#### Performing TomekLinks one more time to remove borderline observations"
   ]
  },
  {
   "cell_type": "code",
   "execution_count": 87,
   "id": "7d8202f8",
   "metadata": {},
   "outputs": [],
   "source": [
    "X_tomek_twice, y_tomek_twice = tomek.fit_resample(X_sm_tomek, y_sm_tomek)"
   ]
  },
  {
   "cell_type": "code",
   "execution_count": 88,
   "id": "7f1a088b",
   "metadata": {},
   "outputs": [],
   "source": [
    "X_train_twice, X_test_twice, y_train_twice, y_test_twice = train_test_split(X_tomek_twice, y_tomek_twice, test_size=0.3, random_state=42)"
   ]
  },
  {
   "cell_type": "code",
   "execution_count": 89,
   "id": "8ae6ae98",
   "metadata": {},
   "outputs": [],
   "source": [
    "logisticregression_model_twice = LogisticRegression()\n",
    "logisticregression_model_twice.fit(X_train_twice, y_train_twice)\n",
    "y_pred_twice = logisticregression_model_twice.predict(X_test_twice)"
   ]
  },
  {
   "cell_type": "code",
   "execution_count": 90,
   "id": "80fa65f8",
   "metadata": {},
   "outputs": [
    {
     "name": "stdout",
     "output_type": "stream",
     "text": [
      "Accuracy (after applying TOMEK links twice): 0.7297205180640763\n"
     ]
    }
   ],
   "source": [
    "accuracy_twice = accuracy_score(y_test_twice, y_pred_twice)\n",
    "print(\"Accuracy (after applying TOMEK links twice):\", accuracy_twice)"
   ]
  },
  {
   "cell_type": "code",
   "execution_count": 91,
   "id": "560afe46",
   "metadata": {},
   "outputs": [
    {
     "name": "stdout",
     "output_type": "stream",
     "text": [
      "              precision    recall  f1-score   support\n",
      "\n",
      "          No       0.74      0.73      0.74      1521\n",
      "         Yes       0.71      0.73      0.72      1413\n",
      "\n",
      "    accuracy                           0.73      2934\n",
      "   macro avg       0.73      0.73      0.73      2934\n",
      "weighted avg       0.73      0.73      0.73      2934\n",
      "\n"
     ]
    }
   ],
   "source": [
    "report_twice = classification_report(y_test_twice, y_pred_twice)\n",
    "print(report_twice) #reduction in No precision, improvement in predicting Yes, reduction in overall accuracy"
   ]
  },
  {
   "cell_type": "code",
   "execution_count": null,
   "id": "39e64f76",
   "metadata": {},
   "outputs": [],
   "source": [
    "## Conclusion: Based on the trade offs between precision scores of No and Yes, recall scores, as well as accuracy, using TomekLinks and SMOTE combined with minmax scaler provides the best improvements as well as the most moderate tradeoffs between No and Yes."
   ]
  }
 ],
 "metadata": {
  "kernelspec": {
   "display_name": "Python 3 (ipykernel)",
   "language": "python",
   "name": "python3"
  },
  "language_info": {
   "codemirror_mode": {
    "name": "ipython",
    "version": 3
   },
   "file_extension": ".py",
   "mimetype": "text/x-python",
   "name": "python",
   "nbconvert_exporter": "python",
   "pygments_lexer": "ipython3",
   "version": "3.9.13"
  }
 },
 "nbformat": 4,
 "nbformat_minor": 5
}
